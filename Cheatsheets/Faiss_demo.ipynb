{
 "cells": [
  {
   "cell_type": "markdown",
   "metadata": {},
   "source": [
    "# FAISS (Facebook AI Similarity Search)\n",
    "- https://github.com/facebookresearch/faiss\n",
    "- https://faiss.ai/\n",
    "- 应用场景：基于 embedding 找到 nearest neighbor"
   ]
  },
  {
   "cell_type": "code",
   "execution_count": 1,
   "metadata": {},
   "outputs": [],
   "source": [
    "import numpy as np\n",
    "import faiss\n",
    "import requests\n",
    "from io import StringIO\n",
    "import pandas as pd"
   ]
  },
  {
   "cell_type": "markdown",
   "metadata": {},
   "source": [
    "## 获取数据集"
   ]
  },
  {
   "cell_type": "code",
   "execution_count": 2,
   "metadata": {},
   "outputs": [
    {
     "data": {
      "text/plain": [
       "'pair_ID\\tsentence_A\\tsentence_B\\trelatedness_score\\tentailment_judgment\\n1\\tA group of kids is playing in '"
      ]
     },
     "execution_count": 2,
     "metadata": {},
     "output_type": "execute_result"
    }
   ],
   "source": [
    "res = requests.get('https://raw.githubusercontent.com/brmson/dataset-sts/master/data/sts/sick2014/SICK_train.txt')\n",
    "\n",
    "text = res.text\n",
    "text[:100]"
   ]
  },
  {
   "cell_type": "markdown",
   "metadata": {},
   "source": [
    "转换成 DataFrame"
   ]
  },
  {
   "cell_type": "code",
   "execution_count": 3,
   "metadata": {},
   "outputs": [
    {
     "data": {
      "text/html": [
       "<div>\n",
       "<style scoped>\n",
       "    .dataframe tbody tr th:only-of-type {\n",
       "        vertical-align: middle;\n",
       "    }\n",
       "\n",
       "    .dataframe tbody tr th {\n",
       "        vertical-align: top;\n",
       "    }\n",
       "\n",
       "    .dataframe thead th {\n",
       "        text-align: right;\n",
       "    }\n",
       "</style>\n",
       "<table border=\"1\" class=\"dataframe\">\n",
       "  <thead>\n",
       "    <tr style=\"text-align: right;\">\n",
       "      <th></th>\n",
       "      <th>pair_ID</th>\n",
       "      <th>sentence_A</th>\n",
       "      <th>sentence_B</th>\n",
       "      <th>relatedness_score</th>\n",
       "      <th>entailment_judgment</th>\n",
       "    </tr>\n",
       "  </thead>\n",
       "  <tbody>\n",
       "    <tr>\n",
       "      <th>0</th>\n",
       "      <td>1</td>\n",
       "      <td>A group of kids is playing in a yard and an ol...</td>\n",
       "      <td>A group of boys in a yard is playing and a man...</td>\n",
       "      <td>4.5</td>\n",
       "      <td>NEUTRAL</td>\n",
       "    </tr>\n",
       "    <tr>\n",
       "      <th>1</th>\n",
       "      <td>2</td>\n",
       "      <td>A group of children is playing in the house an...</td>\n",
       "      <td>A group of kids is playing in a yard and an ol...</td>\n",
       "      <td>3.2</td>\n",
       "      <td>NEUTRAL</td>\n",
       "    </tr>\n",
       "    <tr>\n",
       "      <th>2</th>\n",
       "      <td>3</td>\n",
       "      <td>The young boys are playing outdoors and the ma...</td>\n",
       "      <td>The kids are playing outdoors near a man with ...</td>\n",
       "      <td>4.7</td>\n",
       "      <td>ENTAILMENT</td>\n",
       "    </tr>\n",
       "    <tr>\n",
       "      <th>3</th>\n",
       "      <td>5</td>\n",
       "      <td>The kids are playing outdoors near a man with ...</td>\n",
       "      <td>A group of kids is playing in a yard and an ol...</td>\n",
       "      <td>3.4</td>\n",
       "      <td>NEUTRAL</td>\n",
       "    </tr>\n",
       "    <tr>\n",
       "      <th>4</th>\n",
       "      <td>9</td>\n",
       "      <td>The young boys are playing outdoors and the ma...</td>\n",
       "      <td>A group of kids is playing in a yard and an ol...</td>\n",
       "      <td>3.7</td>\n",
       "      <td>NEUTRAL</td>\n",
       "    </tr>\n",
       "  </tbody>\n",
       "</table>\n",
       "</div>"
      ],
      "text/plain": [
       "   pair_ID                                         sentence_A  \\\n",
       "0        1  A group of kids is playing in a yard and an ol...   \n",
       "1        2  A group of children is playing in the house an...   \n",
       "2        3  The young boys are playing outdoors and the ma...   \n",
       "3        5  The kids are playing outdoors near a man with ...   \n",
       "4        9  The young boys are playing outdoors and the ma...   \n",
       "\n",
       "                                          sentence_B  relatedness_score  \\\n",
       "0  A group of boys in a yard is playing and a man...                4.5   \n",
       "1  A group of kids is playing in a yard and an ol...                3.2   \n",
       "2  The kids are playing outdoors near a man with ...                4.7   \n",
       "3  A group of kids is playing in a yard and an ol...                3.4   \n",
       "4  A group of kids is playing in a yard and an ol...                3.7   \n",
       "\n",
       "  entailment_judgment  \n",
       "0             NEUTRAL  \n",
       "1             NEUTRAL  \n",
       "2          ENTAILMENT  \n",
       "3             NEUTRAL  \n",
       "4             NEUTRAL  "
      ]
     },
     "execution_count": 3,
     "metadata": {},
     "output_type": "execute_result"
    }
   ],
   "source": [
    "data = pd.read_csv(StringIO(text), sep='\\t')\n",
    "data.head()"
   ]
  },
  {
   "cell_type": "markdown",
   "metadata": {},
   "source": [
    "准备数据"
   ]
  },
  {
   "cell_type": "code",
   "execution_count": 4,
   "metadata": {},
   "outputs": [
    {
     "data": {
      "text/plain": [
       "['A group of kids is playing in a yard and an old man is standing in the background',\n",
       " 'A group of children is playing in the house and there is no man standing in the background',\n",
       " 'The young boys are playing outdoors and the man is smiling nearby',\n",
       " 'The kids are playing outdoors near a man with a smile',\n",
       " 'The young boys are playing outdoors and the man is smiling nearby']"
      ]
     },
     "execution_count": 4,
     "metadata": {},
     "output_type": "execute_result"
    }
   ],
   "source": [
    "sentences = data['sentence_A'].tolist()"
   ]
  },
  {
   "cell_type": "code",
   "execution_count": 5,
   "metadata": {},
   "outputs": [
    {
     "data": {
      "text/plain": [
       "718"
      ]
     },
     "execution_count": 5,
     "metadata": {},
     "output_type": "execute_result"
    }
   ],
   "source": [
    "sentence_b = data['sentence_B'].tolist()\n",
    "sentences.extend(sentence_b)\n",
    "\n",
    "sentences = list(set(sentences[0:1000]))\n",
    "len(set(sentences))"
   ]
  },
  {
   "cell_type": "code",
   "execution_count": 6,
   "metadata": {},
   "outputs": [
    {
     "data": {
      "text/plain": [
       "['The man is carelessly smearing butter on a slice of garlic bread',\n",
       " 'A woman is sewing with a machine',\n",
       " 'A black helmet is being worn by a man who is pushing a bicycle',\n",
       " 'A white and brown dog is walking through the water with difficulty',\n",
       " 'Two toddlers are eating on a really small wagon full of corndogs ',\n",
       " 'There is no man walking outside',\n",
       " 'A woman is cutting a white onion',\n",
       " 'A deer is jumping over a fence',\n",
       " 'The cat is licking a shallow dish full of milk',\n",
       " 'Nobody is riding the bicycle on one wheel']"
      ]
     },
     "execution_count": 6,
     "metadata": {},
     "output_type": "execute_result"
    }
   ],
   "source": [
    "sentences[:10]"
   ]
  },
  {
   "cell_type": "markdown",
   "metadata": {},
   "source": [
    "## 生成句向量\n",
    "- https://www.sbert.net/\n",
    "- [Sentence-BERT](https://arxiv.org/pdf/1908.10084.pdf)"
   ]
  },
  {
   "cell_type": "code",
   "execution_count": 7,
   "metadata": {},
   "outputs": [],
   "source": [
    "from sentence_transformers import SentenceTransformer\n",
    "\n",
    "model = SentenceTransformer('bert-base-nli-mean-tokens')"
   ]
  },
  {
   "cell_type": "code",
   "execution_count": 8,
   "metadata": {},
   "outputs": [],
   "source": [
    "sentence_embeddings = model.encode(sentences)"
   ]
  },
  {
   "cell_type": "code",
   "execution_count": 9,
   "metadata": {},
   "outputs": [
    {
     "data": {
      "text/plain": [
       "(718, 768)"
      ]
     },
     "execution_count": 9,
     "metadata": {},
     "output_type": "execute_result"
    }
   ],
   "source": [
    "sentence_embeddings.shape"
   ]
  },
  {
   "cell_type": "markdown",
   "metadata": {},
   "source": [
    "## 存入 Faiss"
   ]
  },
  {
   "cell_type": "code",
   "execution_count": 10,
   "metadata": {},
   "outputs": [
    {
     "data": {
      "text/plain": [
       "768"
      ]
     },
     "execution_count": 10,
     "metadata": {},
     "output_type": "execute_result"
    }
   ],
   "source": [
    "d = sentence_embeddings.shape[1]\n",
    "d"
   ]
  },
  {
   "cell_type": "markdown",
   "metadata": {},
   "source": [
    "### [1] Flat L2 Index (exhaustive search, 准确但速度慢)"
   ]
  },
  {
   "cell_type": "code",
   "execution_count": 11,
   "metadata": {},
   "outputs": [],
   "source": [
    "# https://github.com/facebookresearch/faiss/wiki/Faiss-indexes\n",
    "# Flat indexes just encode the vectors into codes of a fixed size and store them in an array of ntotal * code_size bytes.\n",
    "# At search time, all the indexed vectors are decoded sequentially and compared to the query vectors.\n",
    "index = faiss.IndexFlatL2(d)"
   ]
  },
  {
   "cell_type": "code",
   "execution_count": 12,
   "metadata": {},
   "outputs": [
    {
     "data": {
      "text/plain": [
       "True"
      ]
     },
     "execution_count": 12,
     "metadata": {},
     "output_type": "execute_result"
    }
   ],
   "source": [
    "index.is_trained"
   ]
  },
  {
   "cell_type": "code",
   "execution_count": 13,
   "metadata": {},
   "outputs": [],
   "source": [
    "# 通过 add 方法加入向量\n",
    "index.add(sentence_embeddings)"
   ]
  },
  {
   "cell_type": "code",
   "execution_count": 14,
   "metadata": {},
   "outputs": [
    {
     "data": {
      "text/plain": [
       "718"
      ]
     },
     "execution_count": 14,
     "metadata": {},
     "output_type": "execute_result"
    }
   ],
   "source": [
    "index.ntotal"
   ]
  },
  {
   "cell_type": "markdown",
   "metadata": {},
   "source": [
    "开始查询"
   ]
  },
  {
   "cell_type": "code",
   "execution_count": 15,
   "metadata": {},
   "outputs": [],
   "source": [
    "k = 4\n",
    "query = model.encode([\"Someone is playing the football\"])"
   ]
  },
  {
   "cell_type": "code",
   "execution_count": 16,
   "metadata": {},
   "outputs": [
    {
     "data": {
      "text/plain": [
       "array([[ 2.83163905e-01,  1.57802433e-01,  5.15145421e-01,\n",
       "         1.29240781e-01, -5.52885413e-01,  1.25420973e-01,\n",
       "         8.56239572e-02,  2.13250238e-02, -1.03120327e+00,\n",
       "        -4.62618887e-01, -9.21380103e-01,  4.73979712e-01,\n",
       "        -1.93609335e-02,  4.93645042e-01,  1.18129420e+00,\n",
       "         1.72137365e-01,  1.56022355e-01, -1.19113266e+00,\n",
       "         2.44104117e-01,  7.24390149e-02, -8.05312037e-01,\n",
       "        -5.48978031e-01, -5.80017269e-01, -7.24116504e-01,\n",
       "         2.25761145e-01,  2.23430082e-01,  4.72022802e-01,\n",
       "         4.48654979e-01, -9.23286915e-01,  8.72921586e-01,\n",
       "         3.72225940e-01,  3.36247236e-01,  2.17777252e-01,\n",
       "         1.16004169e-01, -7.84430087e-01, -4.05083686e-01,\n",
       "         3.56108636e-01, -6.44741058e-01,  4.10916477e-01,\n",
       "         2.63744384e-01, -3.26047897e-01,  3.29789013e-01,\n",
       "        -8.08365643e-01,  6.68196678e-02, -8.74249101e-01,\n",
       "        -1.16700292e+00, -6.89029217e-01,  3.20187747e-01,\n",
       "        -1.07627809e+00, -3.70335549e-01,  3.77273828e-01,\n",
       "         1.09322035e+00, -1.60262215e+00, -4.37740594e-01,\n",
       "        -6.51636243e-01,  9.37034726e-01,  7.96310008e-01,\n",
       "        -1.09867275e+00, -8.21602196e-02,  3.57999861e-01,\n",
       "        -6.20692134e-01, -3.91561359e-01,  1.55897841e-01,\n",
       "         2.44624898e-01, -1.00468528e+00, -3.05240780e-01,\n",
       "        -2.23493218e-01,  1.19831271e-01, -6.73561096e-01,\n",
       "        -9.85372007e-01, -2.34494999e-01, -7.07134545e-01,\n",
       "        -4.71912593e-01, -1.98171899e-01,  1.29581824e-01,\n",
       "        -1.54405773e+00,  4.01502460e-01,  7.83914387e-01,\n",
       "         8.44949245e-01,  5.00488818e-01,  6.77307472e-02,\n",
       "         7.83245981e-01,  6.96720958e-01,  7.34734595e-01,\n",
       "         7.46639296e-02, -1.91791028e-01,  2.43741665e-02,\n",
       "         1.94087014e-01,  3.57202768e-01, -2.33637497e-01,\n",
       "         5.63427091e-01,  4.13201272e-01, -8.08725879e-02,\n",
       "        -9.61905658e-01,  5.76355815e-01,  6.06573761e-01,\n",
       "        -3.04452598e-01, -6.18174076e-02, -1.82549153e-02,\n",
       "         4.88894843e-02, -7.41565526e-01, -1.35847880e-02,\n",
       "        -5.19531071e-01,  6.38333201e-01,  3.95206027e-02,\n",
       "        -1.92434415e-01, -4.94753778e-01,  1.51543692e-01,\n",
       "        -4.33992863e-01,  2.82832175e-01, -8.73520374e-01,\n",
       "        -1.40468687e-01,  1.03870273e+00, -6.52201593e-01,\n",
       "        -8.88984978e-01,  2.56802171e-01, -3.22431289e-02,\n",
       "         4.25627261e-01, -9.43236984e-03,  1.19282222e+00,\n",
       "         1.52023226e-01,  2.39306957e-01, -3.09124291e-01,\n",
       "        -2.72469401e-01, -4.01187211e-01, -4.61457111e-02,\n",
       "         1.11931121e+00,  1.92668915e-01, -1.23207796e+00,\n",
       "        -2.89454132e-01,  5.54469302e-02,  4.33600962e-01,\n",
       "        -5.50791800e-01, -1.75363153e-01, -2.43149966e-01,\n",
       "         3.45499605e-01,  3.42731565e-01,  3.13918702e-02,\n",
       "        -2.79029399e-01,  3.37506495e-02, -4.75329846e-01,\n",
       "         1.37710005e-01,  4.03708726e-01, -8.24738070e-02,\n",
       "        -6.52385831e-01, -1.17234874e+00,  8.81154001e-01,\n",
       "         8.76760662e-01, -4.52326715e-01,  3.82926047e-01,\n",
       "         1.11100428e-01,  5.50901052e-03, -4.91106451e-01,\n",
       "         1.29715514e+00, -9.01089609e-01,  1.46114433e+00,\n",
       "         1.45691836e+00, -8.23546126e-02,  6.88770711e-01,\n",
       "         7.86494732e-01, -1.19110033e-01,  6.80231750e-01,\n",
       "        -4.95639384e-01, -4.03027683e-01, -1.34724259e-01,\n",
       "        -1.84389635e-03,  1.45060554e-01, -1.89540967e-01,\n",
       "        -5.93537867e-01, -1.33599102e+00,  9.95485425e-01,\n",
       "         5.71155660e-02, -1.11740485e-01,  7.83957899e-01,\n",
       "        -8.58743303e-03, -5.47964931e-01,  6.59011528e-02,\n",
       "         3.09704274e-01,  7.84056038e-02, -2.38439560e-01,\n",
       "        -6.64363429e-02, -2.59669751e-01,  7.57515252e-01,\n",
       "         1.77862063e-01, -1.12111700e+00, -6.88568652e-01,\n",
       "         9.28987145e-01, -6.09778106e-01, -8.39276835e-02,\n",
       "        -1.36998689e+00,  1.22955441e-01, -4.62175608e-01,\n",
       "        -5.94971776e-01, -1.10343981e+00,  4.67375480e-02,\n",
       "        -6.81903899e-01, -3.13085169e-01, -7.04903901e-01,\n",
       "         1.04347825e-01,  5.19530892e-01, -2.70526975e-01,\n",
       "        -8.68020535e-01,  3.02262932e-01,  2.27048308e-01,\n",
       "         1.72206044e-01,  9.40417290e-01,  5.93357980e-01,\n",
       "         2.67491311e-01, -5.84754169e-01, -2.79746324e-01,\n",
       "         7.01941788e-01,  9.51664925e-01,  5.45511067e-01,\n",
       "         6.48856044e-01, -2.71007031e-01,  7.22858727e-01,\n",
       "        -9.83178616e-02, -1.30036026e-01, -1.93350464e-01,\n",
       "         6.58120632e-01,  1.95529629e-02, -4.55960125e-01,\n",
       "         4.37784225e-01,  9.00722623e-01, -8.20798934e-01,\n",
       "         8.31771016e-01, -2.62108952e-01, -2.59633929e-01,\n",
       "        -2.31315270e-01,  5.34742236e-01,  3.98178488e-01,\n",
       "         3.62783730e-01, -6.95125982e-02,  6.35278672e-02,\n",
       "        -1.04689610e+00, -1.21923101e+00, -3.76442581e-01,\n",
       "        -6.07957959e-01, -9.60373282e-02, -1.37993574e-01,\n",
       "         9.24007475e-01,  1.91267741e+00,  6.56315327e-01,\n",
       "         3.91188174e-01, -7.27189064e-01, -1.27824712e+00,\n",
       "         1.50302625e+00,  3.62195224e-01, -1.53705612e-01,\n",
       "         7.15635777e-01, -7.51959145e-01, -7.56531417e-01,\n",
       "        -1.21687967e-02,  3.76667947e-01, -3.88970047e-01,\n",
       "         2.73615420e-01, -3.68675470e-01,  1.28727996e+00,\n",
       "        -2.95662820e-01, -1.24814880e+00,  5.26178062e-01,\n",
       "        -1.55432910e-01, -1.47162542e-01,  1.30816266e-01,\n",
       "        -1.32397330e+00, -7.68093705e-01, -7.93816745e-01,\n",
       "         6.64457679e-01,  3.57758790e-01,  6.39960587e-01,\n",
       "        -5.63912354e-02, -1.40436038e-01, -1.26657569e+00,\n",
       "         2.90530175e-01, -1.24403417e-01, -2.26878062e-01,\n",
       "         6.96793616e-01,  1.76826984e-01, -6.85473621e-01,\n",
       "         2.57398754e-01, -7.61271119e-01, -8.28090549e-01,\n",
       "        -4.60830450e-01,  2.27757484e-01, -6.28265321e-01,\n",
       "        -5.97346902e-01,  7.43254840e-01,  3.04545164e-01,\n",
       "        -3.60477529e-02, -6.42977059e-01,  5.92767186e-02,\n",
       "        -6.48339093e-01, -4.19347763e-01, -7.59549320e-01,\n",
       "         2.63333432e-02,  1.17462981e+00,  2.57884175e-01,\n",
       "        -3.65688801e-01,  2.80898988e-01, -2.17543647e-01,\n",
       "        -3.79483402e-01,  2.07046047e-01,  2.95997947e-01,\n",
       "        -4.19900090e-01, -7.17979968e-01,  4.21946108e-01,\n",
       "        -2.23989338e-02,  5.15454471e-01, -5.82213923e-02,\n",
       "        -4.67863470e-01,  9.40003991e-02, -7.20942616e-01,\n",
       "         3.74997914e-01,  4.77431804e-01, -6.79082036e-01,\n",
       "        -2.56203145e-01, -6.44685745e-01, -4.52094048e-01,\n",
       "        -1.65719941e-01, -6.71668351e-01, -2.92930126e-01,\n",
       "        -3.65992278e-01, -3.25280696e-01,  1.50968522e-01,\n",
       "         8.70850921e-01, -9.09330368e-01, -6.09134197e-01,\n",
       "         3.19629163e-01, -1.33868262e-01, -7.08300710e-01,\n",
       "         9.95634913e-01, -1.63077056e+00, -7.29849398e-01,\n",
       "         1.19302011e+00,  4.88898277e-01,  3.69875699e-01,\n",
       "         2.25809097e-01, -3.02830547e-01,  1.46454847e+00,\n",
       "         4.44467366e-01,  8.55477333e-01,  6.21570051e-01,\n",
       "        -3.52965146e-01,  1.41215295e-01,  7.62640774e-01,\n",
       "        -1.20126116e+00, -1.48353076e+00,  3.52808774e-01,\n",
       "         4.54209447e-02, -6.11153960e-01,  7.61170924e-01,\n",
       "        -9.63347256e-01, -6.08335137e-02, -1.09657359e+00,\n",
       "        -3.46903056e-01, -8.97364438e-01,  3.52296568e-02,\n",
       "        -5.47134615e-02, -5.24992526e-01,  7.71211207e-01,\n",
       "         2.58334517e-03,  7.71660507e-01,  1.87476024e-01,\n",
       "        -9.50113118e-01,  1.23751628e+00, -2.29365274e-01,\n",
       "        -2.10060142e-02,  1.11067653e+00,  5.89481771e-01,\n",
       "        -2.62640208e-01, -4.21137780e-01,  1.96499422e-01,\n",
       "        -1.16465641e-02, -7.73369610e-01, -6.76360190e-01,\n",
       "        -2.75113136e-01, -6.18925631e-01, -1.26220152e-01,\n",
       "         7.16121256e-01, -3.61434311e-01,  5.41600168e-01,\n",
       "        -7.17972293e-02,  1.18334949e-01, -3.87167245e-01,\n",
       "        -3.48701328e-01, -2.09714681e-01, -1.37470961e-01,\n",
       "         9.11399305e-01, -8.05480480e-01, -5.90665936e-01,\n",
       "         1.39911711e+00, -5.50308563e-02, -4.56131436e-02,\n",
       "         3.89973164e-01, -5.07918708e-02, -5.50814509e-01,\n",
       "         1.72273546e-01,  6.50666893e-01,  1.07167341e-01,\n",
       "        -2.92104423e-01,  6.52432144e-01, -3.95561963e-01,\n",
       "         1.17157161e+00,  4.64590877e-01,  4.99848902e-01,\n",
       "        -3.02935392e-01,  1.85834718e+00,  2.67181844e-01,\n",
       "        -7.59473220e-02, -9.77675915e-01,  5.45321368e-02,\n",
       "        -3.67152929e-01, -3.17875654e-01, -1.92162722e-01,\n",
       "        -3.78886700e-01,  1.07162103e-01,  7.97884583e-01,\n",
       "        -4.06888723e-01,  4.46591944e-01,  9.58341718e-01,\n",
       "        -3.41192514e-01, -2.76299089e-01, -2.31617212e-01,\n",
       "        -3.84759575e-01,  1.79805785e-01,  6.72434509e-01,\n",
       "         4.97824363e-02, -1.37280715e+00, -7.31199563e-01,\n",
       "         5.61597407e-01, -1.69225410e-01, -4.54971105e-01,\n",
       "        -7.22049594e-01,  1.28170204e+00, -3.63312632e-01,\n",
       "        -7.77077734e-01,  1.47375751e+00, -7.37372041e-02,\n",
       "         1.87101722e-01,  2.56604433e-01, -7.42207170e-02,\n",
       "         9.00217712e-01,  6.72349408e-02,  9.77441907e-01,\n",
       "         6.30529046e-01,  9.81680956e-03,  4.59046885e-02,\n",
       "        -1.96456802e+00,  2.76994795e-01, -9.04521525e-01,\n",
       "         7.21014500e-01,  4.75203604e-01, -1.03025782e+00,\n",
       "        -5.04989088e-01, -2.13568926e-01,  1.90556377e-01,\n",
       "        -5.02448380e-01, -1.47661591e+00, -1.53348923e-01,\n",
       "        -9.89440918e-01, -2.70501018e-01,  4.22360189e-02,\n",
       "        -7.92827487e-01, -5.13810933e-01, -1.10440455e-01,\n",
       "        -4.85554427e-01, -5.55117249e-01, -1.21569073e+00,\n",
       "         3.64701211e-01,  5.86859703e-01, -6.16448283e-01,\n",
       "        -1.28122479e-01,  2.02365011e-01,  3.55988264e-01,\n",
       "         8.25393021e-01, -1.15143096e+00, -6.21246517e-01,\n",
       "         2.33350784e-01,  1.69121623e-01, -4.38079089e-01,\n",
       "         1.59187675e-01,  4.37117554e-02,  1.06364712e-01,\n",
       "         5.72779715e-01, -5.86355090e-01,  9.60325748e-02,\n",
       "         2.29448304e-01,  1.84280351e-01, -3.96542884e-02,\n",
       "         2.63956279e-01,  4.25833493e-01,  3.20439160e-01,\n",
       "        -5.75570941e-01, -1.07415843e+00, -6.54426575e-01,\n",
       "        -2.34787971e-01, -6.56031191e-01,  5.61156809e-01,\n",
       "         6.15301192e-01,  7.77540982e-01, -3.97584885e-01,\n",
       "        -3.61831337e-01, -6.24696553e-01,  1.87957078e-01,\n",
       "        -1.95250392e+00,  7.74707943e-02,  2.40266824e+00,\n",
       "        -3.79668951e-01,  6.40625432e-02,  2.49305755e-01,\n",
       "         1.15983284e+00, -5.13279498e-01,  4.90689337e-01,\n",
       "         6.80400908e-01,  1.07177366e-02,  4.95511442e-01,\n",
       "        -2.13939101e-01, -1.47787854e-02, -1.69483386e-02,\n",
       "        -1.31445992e+00,  6.71834886e-01,  1.89423397e-01,\n",
       "        -2.70426124e-01, -5.88378131e-01, -8.64919305e-01,\n",
       "         4.78787333e-01, -8.71941566e-01, -4.94507924e-02,\n",
       "        -4.88210291e-01,  1.84647068e-01, -2.69915968e-01,\n",
       "         1.42256692e-01, -3.85559738e-01,  3.60856473e-01,\n",
       "        -3.26325625e-01, -5.42657375e-01,  4.92506474e-01,\n",
       "         3.77430990e-02,  1.68246400e+00, -7.50519633e-01,\n",
       "         5.71059287e-01,  4.26357806e-01,  7.31622875e-01,\n",
       "         1.62609071e-01, -2.88857847e-01, -1.37322754e-01,\n",
       "         2.64978349e-01, -6.48314118e-01, -5.06627820e-02,\n",
       "        -6.86095893e-01, -2.01126203e-01, -1.99808162e-02,\n",
       "        -4.77668047e-02,  1.50482684e-01,  3.22194099e-01,\n",
       "         5.06478474e-02,  3.52175325e-01,  3.90942544e-01,\n",
       "        -6.05211295e-02,  1.50839221e+00, -9.61334646e-01,\n",
       "         1.11582768e+00, -7.75804937e-01,  2.76819587e-01,\n",
       "        -6.14057720e-01,  2.11340971e-02,  1.34857059e+00,\n",
       "        -3.15873176e-01,  1.30792126e-01,  1.73259407e-01,\n",
       "        -3.07424724e-01, -1.48896798e-01,  4.32696372e-01,\n",
       "        -1.12273514e-01, -1.12843551e-01, -3.74894440e-01,\n",
       "         8.94634128e-01,  4.88575667e-01, -8.09189379e-01,\n",
       "        -3.48797947e-01,  1.31228173e+00,  6.54914856e-01,\n",
       "         1.54839963e-01, -8.34554851e-01,  1.51409060e-01,\n",
       "         1.48659706e+00, -3.08672667e-01,  1.50978351e-02,\n",
       "        -1.01560724e+00, -6.98694289e-02,  9.89002764e-01,\n",
       "         2.20839173e-01,  3.97961289e-01,  7.98842967e-01,\n",
       "         1.22697949e+00, -5.40904343e-01, -6.62322342e-01,\n",
       "         5.98913729e-01, -1.33337468e-01, -7.51341760e-01,\n",
       "        -8.44667479e-02, -1.16503119e+00, -1.00426126e+00,\n",
       "         7.68592536e-01, -2.05839053e-01,  1.81439236e-01,\n",
       "         4.31230038e-01, -3.92236561e-01, -3.98345053e-01,\n",
       "         4.06962186e-01,  1.22226012e+00, -1.31256759e+00,\n",
       "        -5.25477767e-01, -8.40636253e-01,  3.22220951e-01,\n",
       "        -8.64980519e-01, -2.06440002e-01,  5.79412460e-01,\n",
       "        -4.43346590e-01,  2.43539780e-01, -1.29057217e+00,\n",
       "         1.59851387e-01,  8.09186339e-01,  5.08370399e-02,\n",
       "         5.45547724e-01, -3.92602980e-01,  6.28907859e-01,\n",
       "        -4.06671464e-01,  2.71677494e-01,  1.09270863e-01,\n",
       "         4.11980480e-01, -2.79498011e-01, -2.95234025e-01,\n",
       "        -5.66969633e-01,  1.98480800e-01,  4.04544324e-01,\n",
       "        -1.17644377e-01, -1.34313315e-01, -2.52945453e-01,\n",
       "        -2.85033435e-01, -2.72410810e-01,  2.03027263e-01,\n",
       "         3.22365016e-01, -3.92937928e-01,  6.54984891e-01,\n",
       "         6.36916161e-01,  9.07701775e-02,  1.00136304e+00,\n",
       "         4.66844924e-02,  9.88552272e-01, -3.43255997e-02,\n",
       "        -3.52254719e-01, -9.68354344e-01,  1.36121526e-01,\n",
       "         4.27003711e-01,  2.53507316e-01, -3.23132426e-01,\n",
       "         9.62328970e-01, -1.69217009e-02,  4.48513448e-01,\n",
       "         6.31173551e-01,  3.22103590e-01,  3.71823758e-01,\n",
       "        -6.14337847e-02,  3.29477698e-01, -5.02211392e-01,\n",
       "         1.02713421e-01,  1.46925241e-01,  3.10715735e-01,\n",
       "         1.09700692e+00,  2.89249569e-01, -3.23960572e-01,\n",
       "         3.11521113e-01,  2.01851845e-01, -1.30468905e-01,\n",
       "        -3.12258959e-01, -2.88474619e-01,  1.15690744e+00,\n",
       "         4.62515831e-01, -2.30276324e-02,  1.78861141e-01,\n",
       "         3.96520704e-01,  3.02341525e-02,  3.27177495e-01,\n",
       "         5.19199762e-03, -1.34031102e-01, -5.49102493e-04,\n",
       "        -1.03046738e-01, -5.80011725e-01,  2.21786443e-02,\n",
       "         7.33704746e-01,  7.37546742e-01, -7.90863037e-01,\n",
       "        -9.74151731e-01, -1.26550183e-01,  8.48051667e-01,\n",
       "         1.60240844e-01,  5.38461544e-02, -3.86562020e-01,\n",
       "        -9.85946715e-01, -8.60729754e-01, -2.39937022e-01,\n",
       "         1.56859025e-01, -1.25346065e+00, -8.34299698e-02,\n",
       "        -3.42564106e-01,  3.61832052e-01,  2.88989156e-01,\n",
       "         5.19440949e-01, -7.01866224e-02, -6.53783441e-01,\n",
       "        -6.24303557e-02, -8.06149483e-01, -5.15322566e-01,\n",
       "         1.17281973e+00,  9.29368809e-02,  1.74583077e-01,\n",
       "        -3.02680910e-01,  2.58526415e-01, -3.85672182e-01,\n",
       "        -5.52533984e-01, -2.94533791e-03, -8.77311349e-01,\n",
       "        -4.89663661e-01, -1.94712758e-01, -9.19422925e-01,\n",
       "        -3.20418505e-03,  8.75314653e-01, -1.81497887e-01,\n",
       "        -2.40567967e-01, -6.42319143e-01,  7.40805328e-01,\n",
       "        -7.17628539e-01,  6.38893425e-01,  1.13740957e+00,\n",
       "         6.55822575e-01, -7.70543749e-03, -5.76795459e-01,\n",
       "        -6.21314980e-02, -4.04815413e-02,  1.03566706e-01,\n",
       "        -1.66435432e+00, -5.78513741e-01,  4.36470211e-01,\n",
       "        -4.17011946e-01,  1.59851596e-01, -4.11562234e-01,\n",
       "         7.71684274e-02,  6.28971457e-01,  7.85096526e-01,\n",
       "         7.16957748e-01,  6.57456517e-01,  5.79334795e-01,\n",
       "        -5.55829227e-01, -6.43492877e-01,  2.48476952e-01,\n",
       "         3.25310171e-01, -4.81129408e-01,  1.72955796e-01,\n",
       "         4.64884132e-01,  1.15769863e+00,  2.66588777e-01,\n",
       "        -4.25743371e-01, -1.13512352e-01,  6.65178359e-01,\n",
       "         4.01668966e-01, -6.68517649e-01,  4.11513954e-01]], dtype=float32)"
      ]
     },
     "execution_count": 16,
     "metadata": {},
     "output_type": "execute_result"
    }
   ],
   "source": [
    "query"
   ]
  },
  {
   "cell_type": "code",
   "execution_count": 17,
   "metadata": {},
   "outputs": [
    {
     "name": "stdout",
     "output_type": "stream",
     "text": [
      "CPU times: user 6 ms, sys: 7.1 ms, total: 13.1 ms\n",
      "Wall time: 15.3 ms\n"
     ]
    }
   ],
   "source": [
    "%%time\n",
    "D, I = index.search(query, k)  "
   ]
  },
  {
   "cell_type": "code",
   "execution_count": 18,
   "metadata": {},
   "outputs": [
    {
     "data": {
      "text/plain": [
       "array([[ 30.626198, 199.8423  , 200.01804 , 206.05267 ]], dtype=float32)"
      ]
     },
     "execution_count": 18,
     "metadata": {},
     "output_type": "execute_result"
    }
   ],
   "source": [
    "D"
   ]
  },
  {
   "cell_type": "code",
   "execution_count": 19,
   "metadata": {},
   "outputs": [
    {
     "data": {
      "text/plain": [
       "array([[320, 500, 476,  49]])"
      ]
     },
     "execution_count": 19,
     "metadata": {},
     "output_type": "execute_result"
    }
   ],
   "source": [
    "I"
   ]
  },
  {
   "cell_type": "markdown",
   "metadata": {},
   "source": [
    "查看相似句子"
   ]
  },
  {
   "cell_type": "code",
   "execution_count": 20,
   "metadata": {},
   "outputs": [
    {
     "data": {
      "text/plain": [
       "['320: Two groups of people are playing football',\n",
       " '500: The little kid is playing football and falling harmlessly into the grass',\n",
       " '476: A player is running with the ball',\n",
       " '49: A man who is playing is running with the ball in his hands']"
      ]
     },
     "execution_count": 20,
     "metadata": {},
     "output_type": "execute_result"
    }
   ],
   "source": [
    "[f'{i}: {sentences[i]}' for i in I[0]]"
   ]
  },
  {
   "cell_type": "markdown",
   "metadata": {},
   "source": [
    "通过 reconstruct 获取 vector"
   ]
  },
  {
   "cell_type": "code",
   "execution_count": 21,
   "metadata": {},
   "outputs": [],
   "source": [
    "vecs = np.zeros((k, d))\n",
    "for i, val in enumerate(I[0].tolist()):\n",
    "    vecs[i, :] = index.reconstruct(val)"
   ]
  },
  {
   "cell_type": "code",
   "execution_count": 22,
   "metadata": {},
   "outputs": [
    {
     "data": {
      "text/plain": [
       "(4, 768)"
      ]
     },
     "execution_count": 22,
     "metadata": {},
     "output_type": "execute_result"
    }
   ],
   "source": [
    "vecs.shape"
   ]
  },
  {
   "cell_type": "code",
   "execution_count": 23,
   "metadata": {},
   "outputs": [
    {
     "data": {
      "text/plain": [
       "array([ 0.49663264,  0.00587879,  0.60509884,  0.40411866, -0.32720342,\n",
       "       -0.65628713, -0.60181159, -0.13350478, -0.72880864, -0.32354006])"
      ]
     },
     "execution_count": 23,
     "metadata": {},
     "output_type": "execute_result"
    }
   ],
   "source": [
    "vecs[3][:10]"
   ]
  },
  {
   "cell_type": "code",
   "execution_count": 24,
   "metadata": {},
   "outputs": [
    {
     "data": {
      "text/plain": [
       "array([ 0.49663264,  0.00587879,  0.60509884,  0.40411866, -0.32720342,\n",
       "       -0.65628713, -0.6018116 , -0.13350478, -0.72880864, -0.32354006],\n",
       "      dtype=float32)"
      ]
     },
     "execution_count": 24,
     "metadata": {},
     "output_type": "execute_result"
    }
   ],
   "source": [
    "sentence_embeddings[49][0:10]"
   ]
  },
  {
   "cell_type": "markdown",
   "metadata": {},
   "source": [
    "## [2] Flat inner product / cosine similarity Index"
   ]
  },
  {
   "cell_type": "code",
   "execution_count": 25,
   "metadata": {},
   "outputs": [
    {
     "data": {
      "text/plain": [
       "array([[281.67133, 196.91997, 193.19354, 192.44211]], dtype=float32)"
      ]
     },
     "execution_count": 25,
     "metadata": {},
     "output_type": "execute_result"
    }
   ],
   "source": [
    "# https://medium.datadriveninvestor.com/cosine-similarity-cosine-distance-6571387f9bf8\n",
    "ip_index = faiss.IndexFlatIP(d)\n",
    "ip_index.add(sentence_embeddings)\n",
    "D, I = ip_index.search(query, k)\n",
    "D"
   ]
  },
  {
   "cell_type": "code",
   "execution_count": 26,
   "metadata": {},
   "outputs": [
    {
     "data": {
      "text/plain": [
       "array([[320, 476,  49, 500]])"
      ]
     },
     "execution_count": 26,
     "metadata": {},
     "output_type": "execute_result"
    }
   ],
   "source": [
    "I"
   ]
  },
  {
   "cell_type": "code",
   "execution_count": 27,
   "metadata": {},
   "outputs": [
    {
     "data": {
      "text/plain": [
       "array([[0.70710677, 0.70710677]], dtype=float32)"
      ]
     },
     "execution_count": 27,
     "metadata": {},
     "output_type": "execute_result"
    }
   ],
   "source": [
    "# normalize_L2 例子\n",
    "a = np.array([[1, 1]]).astype(np.float32)\n",
    "faiss.normalize_L2(a)\n",
    "a"
   ]
  },
  {
   "cell_type": "code",
   "execution_count": 28,
   "metadata": {},
   "outputs": [],
   "source": [
    "# https://github.com/facebookresearch/faiss/issues/95\n",
    "import copy\n",
    "cosine_index = faiss.IndexFlatIP(d)\n",
    "sentence_embeddings_copy = copy.deepcopy(sentence_embeddings)\n",
    "faiss.normalize_L2(sentence_embeddings_copy)\n",
    "cosine_index.add(sentence_embeddings_copy)\n",
    "query_copy = copy.deepcopy(query)\n",
    "faiss.normalize_L2(query_copy)"
   ]
  },
  {
   "cell_type": "code",
   "execution_count": 29,
   "metadata": {},
   "outputs": [
    {
     "data": {
      "text/plain": [
       "array([[0.9484966, 0.6632283, 0.6582364, 0.6522202]], dtype=float32)"
      ]
     },
     "execution_count": 29,
     "metadata": {},
     "output_type": "execute_result"
    }
   ],
   "source": [
    "D, I = cosine_index.search(query_copy, k)\n",
    "D"
   ]
  },
  {
   "cell_type": "code",
   "execution_count": 30,
   "metadata": {},
   "outputs": [
    {
     "data": {
      "text/plain": [
       "array([[320, 476, 500,  49]])"
      ]
     },
     "execution_count": 30,
     "metadata": {},
     "output_type": "execute_result"
    }
   ],
   "source": [
    "I"
   ]
  },
  {
   "cell_type": "markdown",
   "metadata": {},
   "source": [
    "## [3] 基于 partition 的加速搜索 `IndexIVFFlat`\n",
    "- IVF: Inverted file\n",
    "- [Voronoi cells](https://en.wikipedia.org/wiki/Voronoi_diagram) \n",
    "- 搜索过程：首先找到 query 所在的 cell，利用 quantizer 计算 query 和 cell 内部的 vector 距离\n",
    "- https://mccormickml.com/2017/10/22/product-quantizer-tutorial-part-2/"
   ]
  },
  {
   "cell_type": "code",
   "execution_count": 48,
   "metadata": {},
   "outputs": [
    {
     "data": {
      "text/plain": [
       "1"
      ]
     },
     "execution_count": 48,
     "metadata": {},
     "output_type": "execute_result"
    }
   ],
   "source": [
    "# nlist: 多少个 partitions\n",
    "nlist = 50\n",
    "# 距离度量方式\n",
    "quantizer = faiss.IndexFlatL2(d)\n",
    "ivf_index = faiss.IndexIVFFlat(quantizer, d, nlist)\n",
    "ivf_index.nprobe"
   ]
  },
  {
   "cell_type": "code",
   "execution_count": 49,
   "metadata": {},
   "outputs": [
    {
     "data": {
      "text/plain": [
       "False"
      ]
     },
     "execution_count": 49,
     "metadata": {},
     "output_type": "execute_result"
    }
   ],
   "source": [
    "# 该 index 要求首先对数据做预处理（即划分 partition）\n",
    "ivf_index.is_trained"
   ]
  },
  {
   "cell_type": "code",
   "execution_count": 50,
   "metadata": {},
   "outputs": [
    {
     "data": {
      "text/plain": [
       "True"
      ]
     },
     "execution_count": 50,
     "metadata": {},
     "output_type": "execute_result"
    }
   ],
   "source": [
    "# 开始训练\n",
    "ivf_index.train(sentence_embeddings)\n",
    "ivf_index.is_trained"
   ]
  },
  {
   "cell_type": "code",
   "execution_count": 51,
   "metadata": {},
   "outputs": [
    {
     "data": {
      "text/plain": [
       "718"
      ]
     },
     "execution_count": 51,
     "metadata": {},
     "output_type": "execute_result"
    }
   ],
   "source": [
    "ivf_index.add(sentence_embeddings)\n",
    "ivf_index.ntotal"
   ]
  },
  {
   "cell_type": "markdown",
   "metadata": {},
   "source": [
    "查看相似句子"
   ]
  },
  {
   "cell_type": "code",
   "execution_count": 52,
   "metadata": {},
   "outputs": [
    {
     "name": "stdout",
     "output_type": "stream",
     "text": [
      "[[320  14  87 616]]\n",
      "CPU times: user 2.47 ms, sys: 908 µs, total: 3.38 ms\n",
      "Wall time: 677 µs\n"
     ]
    }
   ],
   "source": [
    "%%time\n",
    "D, I = ivf_index.search(query, k)\n",
    "print(I)"
   ]
  },
  {
   "cell_type": "markdown",
   "metadata": {},
   "source": [
    "为了增加搜索范围（即多个 cell），可以增大 `nprobe` 的值。但是会增加搜索时间。"
   ]
  },
  {
   "cell_type": "code",
   "execution_count": 54,
   "metadata": {},
   "outputs": [],
   "source": [
    "ivf_index.nprobe = 10"
   ]
  },
  {
   "cell_type": "code",
   "execution_count": 56,
   "metadata": {},
   "outputs": [
    {
     "name": "stdout",
     "output_type": "stream",
     "text": [
      "[[320 500 476  49]]\n",
      "CPU times: user 2.99 ms, sys: 1.06 ms, total: 4.05 ms\n",
      "Wall time: 923 µs\n"
     ]
    }
   ],
   "source": [
    "%%time\n",
    "D, I = ivf_index.search(query, k)\n",
    "print(I)"
   ]
  },
  {
   "cell_type": "markdown",
   "metadata": {},
   "source": [
    "在调用 `reconstruct` 方法前，需要调用 `make_direct_map` 方法"
   ]
  },
  {
   "cell_type": "code",
   "execution_count": 59,
   "metadata": {},
   "outputs": [],
   "source": [
    "ivf_index.make_direct_map()"
   ]
  },
  {
   "cell_type": "code",
   "execution_count": 60,
   "metadata": {},
   "outputs": [
    {
     "data": {
      "text/plain": [
       "array([ 0.49663264,  0.00587879,  0.60509884,  0.40411866, -0.32720342,\n",
       "       -0.65628713, -0.6018116 , -0.13350478, -0.72880864, -0.32354006],\n",
       "      dtype=float32)"
      ]
     },
     "execution_count": 60,
     "metadata": {},
     "output_type": "execute_result"
    }
   ],
   "source": [
    "ivf_index.reconstruct(49)[:10]"
   ]
  },
  {
   "cell_type": "markdown",
   "metadata": {},
   "source": [
    "## 基于压缩 (Quantization) 的加速搜索 PQ (Product Quantization)\n",
    "- `Flat` 没有对输入 vector 做任何处理，当数据量较大时，存储 full vector 占用较大存储空间。Faiss 基于 *Product Quantization* (PQ) 可以对 vector 进行压缩。与 **IVF** 一样，都是降低搜索空间的 approximate 方法。\n",
    "- PQ 分为三步：\n",
    "    - 将原始 vector 划分成 多个 subvectors\n",
    "    - 对 subvectors 集合做聚类，找到类 centroids\n",
    "    - 将原始 vector 的多个 subvectors 使用 subvector 最近的 centroid ID 代替\n",
    "- https://mccormickml.com/2017/10/13/product-quantizer-tutorial-part-1/"
   ]
  },
  {
   "cell_type": "code",
   "execution_count": 61,
   "metadata": {},
   "outputs": [],
   "source": [
    "# 划分成多少个 sub vector，需要被 d 整除\n",
    "m = 8 \n",
    "# 使用 8 bits 表示每个 centroid\n",
    "bits = 8\n",
    "\n",
    "quantizer = faiss.IndexFlatL2(d) \n",
    "pq_index = faiss.IndexIVFPQ(quantizer, d, nlist, m, bits) "
   ]
  },
  {
   "cell_type": "code",
   "execution_count": 62,
   "metadata": {},
   "outputs": [
    {
     "data": {
      "text/plain": [
       "False"
      ]
     },
     "execution_count": 62,
     "metadata": {},
     "output_type": "execute_result"
    }
   ],
   "source": [
    "pq_index.is_trained"
   ]
  },
  {
   "cell_type": "code",
   "execution_count": 64,
   "metadata": {},
   "outputs": [
    {
     "data": {
      "text/plain": [
       "True"
      ]
     },
     "execution_count": 64,
     "metadata": {},
     "output_type": "execute_result"
    }
   ],
   "source": [
    "pq_index.train(sentence_embeddings)\n",
    "pq_index.is_trained"
   ]
  },
  {
   "cell_type": "code",
   "execution_count": 65,
   "metadata": {},
   "outputs": [],
   "source": [
    "pq_index.add(sentence_embeddings)"
   ]
  },
  {
   "cell_type": "code",
   "execution_count": 66,
   "metadata": {},
   "outputs": [],
   "source": [
    "pq_index.nprobe = 10"
   ]
  },
  {
   "cell_type": "code",
   "execution_count": 71,
   "metadata": {},
   "outputs": [
    {
     "name": "stdout",
     "output_type": "stream",
     "text": [
      "[[320 476  49 500]]\n",
      "CPU times: user 2.33 ms, sys: 945 µs, total: 3.27 ms\n",
      "Wall time: 991 µs\n"
     ]
    }
   ],
   "source": [
    "%%time\n",
    "D, I = pq_index.search(query, k)\n",
    "print(I)"
   ]
  },
  {
   "cell_type": "markdown",
   "metadata": {},
   "source": [
    "注：运算时间会有波动，当数据量大时趋于稳定。"
   ]
  },
  {
   "cell_type": "code",
   "execution_count": null,
   "metadata": {},
   "outputs": [],
   "source": []
  }
 ],
 "metadata": {
  "interpreter": {
   "hash": "a683edd788238e5c64f9fa2e4bdd4387776bc5c6f4f0a84da0685f9a25e421d6"
  },
  "kernelspec": {
   "display_name": "Python 3",
   "language": "python",
   "name": "python3"
  },
  "language_info": {
   "codemirror_mode": {
    "name": "ipython",
    "version": 3
   },
   "file_extension": ".py",
   "mimetype": "text/x-python",
   "name": "python",
   "nbconvert_exporter": "python",
   "pygments_lexer": "ipython3",
   "version": "3.6.6"
  },
  "toc": {
   "base_numbering": 1,
   "nav_menu": {},
   "number_sections": true,
   "sideBar": true,
   "skip_h1_title": false,
   "title_cell": "Table of Contents",
   "title_sidebar": "Contents",
   "toc_cell": false,
   "toc_position": {},
   "toc_section_display": true,
   "toc_window_display": false
  }
 },
 "nbformat": 4,
 "nbformat_minor": 2
}
